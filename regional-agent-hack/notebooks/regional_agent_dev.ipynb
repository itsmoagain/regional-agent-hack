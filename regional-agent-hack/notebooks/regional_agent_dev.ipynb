{
 "cells": [
  {"cell_type":"markdown","metadata":{},"source":["# Dev Notebook"]},
  {"cell_type":"code","metadata":{},"source":["print('hello dev')"],"execution_count":null,"outputs":[]}
 ],
 "metadata": {"kernelspec":{"display_name":"Python 3","language":"python","name":"python3"}},
 "nbformat":4,
 "nbformat_minor":5
}
