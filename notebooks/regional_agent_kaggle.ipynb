{
 "cells": [
  {
   "cell_type": "markdown",
   "metadata": {},
   "source": [
    "# Regional Agent (CPU-only) — Kaggle Notebook\n",
    "Loads cached data from attached dataset and produces rec_cards.json."
   ]
  },
  {
   "cell_type": "code",
   "execution_count": null,
   "metadata": {},
   "outputs": [],
   "source": [
    "import pandas as pd, json, os, pathlib\n",
    "DATA = pathlib.Path('/kaggle/input') / 'regional-agent-hack' / 'data'\n",
    "regions = ['hungary_farmland','jamaica_coffee']\n",
    "outs = pathlib.Path('outputs/insights'); outs.mkdir(parents=True, exist_ok=True)\n",
    "for r in regions:\n",
    "    p = DATA / r / 'chirps_cached.csv'\n",
    "    df = pd.read_csv(p)\n",
    "    recs = [{"date": d, "rec": "placeholder", "rationale": "demo"} for d in df['date'].head(3)]\n",
    "    with open(outs / f"{r}_rec_cards.json", 'w') as f:\n",
    "        json.dump(recs, f, indent=2)\n",
    "print('Done; see outputs/insights/*.json')"
   ]
  }
 ],
 "metadata": {
  "kernelspec": {"display_name": "Python 3", "language": "python", "name": "python3"}
 },
 "nbformat": 4,
 "nbformat_minor": 5
}
