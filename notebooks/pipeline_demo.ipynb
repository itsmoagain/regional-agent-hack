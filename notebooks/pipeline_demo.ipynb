{
 "cells": [
  {
   "cell_type": "markdown",
   "metadata": {},
   "source": [
    "# Regional Pipeline Demo\n",
    "\n",
    "Use this notebook to reproduce the CPU-only pipeline for either flagship region:\n",
    "\n",
    "- `hungary_transdanubia` (winter wheat rotation)\n",
    "- `jamaica_coffee` (Blue Mountain coffee belt)\n",
    "\n",
    "Each block mirrors the CLI steps described in the README. Run the notebook twice\u2014once for a baseline tier, once for an optimised tier\u2014and record the CodeCarbon outputs for the hackathon submission."
   ]
  },
  {
   "cell_type": "code",
   "execution_count": null,
   "metadata": {},
   "outputs": [],
   "source": [
    "import subprocess\n",
    "from pathlib import Path\n\n",
    "REGION = 'hungary_transdanubia'  # or 'jamaica_coffee'\n",
    "DATA_DIR = Path('data') / REGION\n",
    "CONFIG_PATH = Path('regions/profiles') / f'insight.{REGION}.yml'\n",
    "assert CONFIG_PATH.exists(), f'Missing config for {REGION}'\n",
    "DATA_DIR.mkdir(parents=True, exist_ok=True)\n",
    "CONFIG_PATH"
   ]
  },
  {
   "cell_type": "code",
   "execution_count": null,
   "metadata": {},
   "outputs": [],
   "source": [
    "def run(cmd):\n",
    "    if isinstance(cmd, (list, tuple)):\n",
    "        display_cmd = ' '.join(cmd)\n",
    "    else:\n",
    "        display_cmd = cmd\n",
    "    print('\u21aa', display_cmd)\n",
    "    result = subprocess.run(cmd, check=True, text=True, capture_output=True)\n",
    "    print(result.stdout)\n",
    "    if result.stderr:\n",
    "        print(result.stderr)\n",
    "\n",
    "run(['python', 'scripts/build_region_cache.py', '--region', REGION])\n",
    "run(['python', 'scripts/build_region_insights.py', '--region', REGION])\n",
    "run(['python', 'scripts/train_region_model.py', '--region', REGION, '--tier', '2', '--freq', 'monthly'])\n",
    "run(['python', 'engine/evaluate_greenai.py', '--region', REGION, '--label', 'baseline', '--command', f'python scripts/train_region_model.py --region {REGION} --tier 1 --freq monthly'])\n",
    "run(['python', 'engine/evaluate_greenai.py', '--region', REGION, '--label', 'optimised', '--command', f'python scripts/train_region_model.py --region {REGION} --tier 3 --freq monthly'])\n",
    "run(['python', 'scripts/flag_anomalies.py', '--region', REGION, '--config', str(CONFIG_PATH)])"
   ]
  }
 ],
 "metadata": {
  "kernelspec": {
   "display_name": "Python 3",
   "language": "python",
   "name": "python3"
  },
  "language_info": {
   "codemirror_mode": {
    "name": "ipython",
    "version": 3
   },
   "file_extension": ".py",
   "mimetype": "text/x-python",
   "name": "python",
   "nbconvert_exporter": "python",
   "pygments_lexer": "ipython3",
   "version": "3.11"
  }
 },
 "nbformat": 4,
 "nbformat_minor": 5
}